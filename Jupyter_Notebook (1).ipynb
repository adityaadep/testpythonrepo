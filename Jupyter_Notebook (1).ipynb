{
 "cells": [
  {
   "cell_type": "markdown",
   "metadata": {},
   "source": [
    "<center>\n",
    "    <img src=\"https://cf-courses-data.s3.us.cloud-object-storage.appdomain.cloud/IBMDeveloperSkillsNetwork-DS0105EN-SkillsNetwork/labs/Module2/images/SN_web_lightmode.png\" width=\"300\" alt=\"cognitiveclass.ai logo\">\n",
    "</center>\n"
   ]
  },
  {
   "cell_type": "markdown",
   "metadata": {},
   "source": [
    "#### Add your code below following the instructions given in the course\n"
   ]
  },
  {
   "cell_type": "markdown",
   "metadata": {},
   "source": [
    "# My Jupyter Notebook on IBM Watson Studio"
   ]
  },
  {
   "cell_type": "markdown",
   "metadata": {},
   "source": [
    "**Aditya Adep** ,\n",
    "Student"
   ]
  },
  {
   "cell_type": "markdown",
   "metadata": {},
   "source": [
    "*I enjoy being a part of new technologies and trying out innovative solutions. I'm especially interested in Data Visualization and predicting the outcome of data using data science and business intelligence . I'm eager to use Data science skills in a more practical capacity.*"
   ]
  },
  {
   "cell_type": "markdown",
   "metadata": {},
   "source": [
    "### Code to perform arithmetic operation\n",
    "*Also print the output*"
   ]
  },
  {
   "cell_type": "code",
   "execution_count": 2,
   "metadata": {},
   "outputs": [
    {
     "name": "stdout",
     "output_type": "stream",
     "text": [
      "3\n"
     ]
    }
   ],
   "source": [
    "a=1\n",
    "b=2\n",
    "c=a+b\n",
    "print(c)"
   ]
  },
  {
   "cell_type": "markdown",
   "metadata": {},
   "source": [
    "## This notebook consist examples of -\n",
    "* Image Insertion\n",
    "* HyperLinks\n",
    "* Headers\n",
    "* Unordered List"
   ]
  },
  {
   "cell_type": "markdown",
   "metadata": {},
   "source": [
    "## Other operations"
   ]
  },
  {
   "cell_type": "markdown",
   "metadata": {},
   "source": [
    "* #### Github Link - [Link for Markdown cheatsheet](https://github.com/adam-p/markdown-here/wiki/Markdown-Cheatsheet#emphasis) (insert Hyperlinks)"
   ]
  },
  {
   "cell_type": "markdown",
   "metadata": {},
   "source": [
    "* ### Aditya's Logo (Insert Image)\n",
    "\n",
    "![Aditya logo](data:image/png;base64,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)"
   ]
  }
 ],
 "metadata": {
  "kernelspec": {
   "display_name": "Python",
   "language": "python",
   "name": "conda-env-python-py"
  },
  "language_info": {
   "codemirror_mode": {
    "name": "ipython",
    "version": 3
   },
   "file_extension": ".py",
   "mimetype": "text/x-python",
   "name": "python",
   "nbconvert_exporter": "python",
   "pygments_lexer": "ipython3",
   "version": "3.7.12"
  }
 },
 "nbformat": 4,
 "nbformat_minor": 4
}
